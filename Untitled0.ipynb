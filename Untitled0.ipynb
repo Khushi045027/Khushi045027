{
  "nbformat": 4,
  "nbformat_minor": 0,
  "metadata": {
    "colab": {
      "provenance": [],
      "authorship_tag": "ABX9TyOI4OhumBehx2Ep5MErWJN5",
      "include_colab_link": true
    },
    "kernelspec": {
      "name": "python3",
      "display_name": "Python 3"
    },
    "language_info": {
      "name": "python"
    }
  },
  "cells": [
    {
      "cell_type": "markdown",
      "metadata": {
        "id": "view-in-github",
        "colab_type": "text"
      },
      "source": [
        "<a href=\"https://colab.research.google.com/github/Khushi045027/Khushi045027/blob/main/Untitled0.ipynb\" target=\"_parent\"><img src=\"https://colab.research.google.com/assets/colab-badge.svg\" alt=\"Open In Colab\"/></a>"
      ]
    },
    {
      "cell_type": "code",
      "source": [
        "n1 = 1; n2 = 2; n3 = 3\n",
        "n11 = n2 + n3\n",
        "print(n11)"
      ],
      "metadata": {
        "colab": {
          "base_uri": "https://localhost:8080/"
        },
        "id": "HVA0fLDDRTV6",
        "outputId": "6695ff0f-a207-406c-a8e2-cd68838b88c5"
      },
      "execution_count": null,
      "outputs": [
        {
          "output_type": "stream",
          "name": "stdout",
          "text": [
            "5\n"
          ]
        }
      ]
    },
    {
      "cell_type": "code",
      "source": [
        "x = input(\"enter your age\")\n"
      ],
      "metadata": {
        "id": "Hym-QmKzRUjb",
        "colab": {
          "base_uri": "https://localhost:8080/"
        },
        "outputId": "fbb29180-fba2-4b30-f23d-c1dfa3e2bb06"
      },
      "execution_count": 4,
      "outputs": [
        {
          "name": "stdout",
          "output_type": "stream",
          "text": [
            "enter your age 10\n"
          ]
        }
      ]
    },
    {
      "cell_type": "code",
      "source": [
        "x = float(input(\"enter your age\"))"
      ],
      "metadata": {
        "colab": {
          "base_uri": "https://localhost:8080/"
        },
        "id": "WpaFRAPmo8Nb",
        "outputId": "3bcb0ff3-5a8b-4960-b9b9-c9b7ae7cb21f"
      },
      "execution_count": 9,
      "outputs": [
        {
          "name": "stdout",
          "output_type": "stream",
          "text": [
            "enter your age12\n"
          ]
        }
      ]
    },
    {
      "cell_type": "code",
      "source": [
        "print('my age is', x)"
      ],
      "metadata": {
        "colab": {
          "base_uri": "https://localhost:8080/"
        },
        "id": "SKYZQT65pUqX",
        "outputId": "d3bc9f12-9bec-4c3c-e702-82f34693019a"
      },
      "execution_count": 11,
      "outputs": [
        {
          "output_type": "stream",
          "name": "stdout",
          "text": [
            "my age is 12.0\n"
          ]
        }
      ]
    }
  ]
}